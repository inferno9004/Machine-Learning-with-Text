{
 "cells": [
  {
   "cell_type": "markdown",
   "metadata": {},
   "source": [
    "# Intermediate Regex Homework"
   ]
  },
  {
   "cell_type": "markdown",
   "metadata": {},
   "source": [
    "## UFO sightings\n",
    "\n",
    "The [ufo-reports](https://github.com/planetsig/ufo-reports) GitHub repository contains reports of UFO sightings downloaded from the [National UFO Reporting Center](http://www.nuforc.org/) website. One of the data fields is the **duration of the sighting**, which includes **free-form text**. These are some example entries:\n",
    "\n",
    "- 45 minutes\n",
    "- 1-2 hrs\n",
    "- 20 seconds\n",
    "- 1/2 hour\n",
    "- about 3 mins\n",
    "- several minutes\n",
    "- one hour?\n",
    "- 5min"
   ]
  },
  {
   "cell_type": "markdown",
   "metadata": {},
   "source": [
    "Here is **how to read in the file:**\n",
    "\n",
    "- Use the pandas **`read_csv()`** function to read directly from this [URL](https://raw.githubusercontent.com/planetsig/ufo-reports/master/csv-data/ufo-scrubbed-geocoded-time-standardized.csv).\n",
    "- Use the **`header=None`** parameter to specify that the data does not have a header row.\n",
    "- Use the **`nrows=100`** parameter to specify that you only want to read in the first 100 rows.\n",
    "- Save the relevant Series as a Python list, just like we did in a class exercise."
   ]
  },
  {
   "cell_type": "code",
   "execution_count": 148,
   "metadata": {
    "collapsed": true
   },
   "outputs": [],
   "source": [
    "import pandas as pd\n",
    "import re"
   ]
  },
  {
   "cell_type": "code",
   "execution_count": 149,
   "metadata": {
    "collapsed": true
   },
   "outputs": [],
   "source": [
    "#was getting URL error, so saved data on my disk\n",
    "path = \"../data/ufo.csv\""
   ]
  },
  {
   "cell_type": "code",
   "execution_count": 150,
   "metadata": {
    "collapsed": false
   },
   "outputs": [],
   "source": [
    "ufo_df = pd.read_csv(path, header = None, nrows = 100)"
   ]
  },
  {
   "cell_type": "code",
   "execution_count": 151,
   "metadata": {
    "collapsed": false
   },
   "outputs": [],
   "source": [
    "list_of_duration = list(ufo_df[6])"
   ]
  },
  {
   "cell_type": "markdown",
   "metadata": {},
   "source": [
    "Your assignment is to **normalize the duration data for the first 100 rows** by splitting each entry into two parts:\n",
    "\n",
    "- The first part should be a **number**: either a whole number (such as '45') or a decimal (such as '0.5').\n",
    "- The second part should be a **unit of time**: either 'hr' or 'min' or 'sec'\n",
    "\n",
    "The expected output is a **list of tuples**, containing the **original (unedited) string**, the **number**, and the **unit of time**. Here is a what the output should look like:\n",
    "\n",
    "> `clean_durations = [('45 minutes', '45', 'min'), ('1-2 hrs', '1', 'hr'), ('20 seconds', '20', 'sec'), ...]`"
   ]
  },
  {
   "cell_type": "markdown",
   "metadata": {},
   "source": [
    "Here are the **\"rules\" and guiding principles** for this assignment:\n",
    "\n",
    "- The normalized duration does not have to be exactly correct, but it must be at least **within the given range**. For example:\n",
    "    - If the duration is '20-30 min', acceptable answers include '20 min' and '30 min'.\n",
    "    - If the duration is '1/2 hour', the only acceptable answer is '0.5 hr'.\n",
    "- When a number is not given, you should make a **\"reasonable\" substitution for the words**. For example:\n",
    "    - If the duration is 'several minutes', you can approximate this as '5 min'.\n",
    "    - If the duration is 'couple minutes', you can approximate this as '2 min'.\n",
    "- You are not allowed to **skip any entries**. (Your list of tuples should have a length of 100.)\n",
    "- Try to use **as few substitutions as possible**, and make your regular expression **as simple as possible**.\n",
    "- Just because you don't get an error doesn't mean that your code was successful. Instead, you should **check each entry by hand** to see if it produced an acceptable result."
   ]
  },
  {
   "cell_type": "code",
   "execution_count": 152,
   "metadata": {
    "collapsed": true
   },
   "outputs": [],
   "source": [
    "duration = [re.sub(\"1/2\",\"0.5\",i) for i in list_of_duration]"
   ]
  },
  {
   "cell_type": "code",
   "execution_count": 153,
   "metadata": {
    "collapsed": true
   },
   "outputs": [],
   "source": [
    "duration = [re.sub(\"several\",\"5\",i) for i in duration]"
   ]
  },
  {
   "cell_type": "code",
   "execution_count": 154,
   "metadata": {
    "collapsed": true
   },
   "outputs": [],
   "source": [
    "duration = [re.sub(\"one\",\"1\",i) for i in duration]"
   ]
  },
  {
   "cell_type": "code",
   "execution_count": 155,
   "metadata": {
    "collapsed": true
   },
   "outputs": [],
   "source": [
    "duration = [re.sub(\"couple|few\",\"2\",i) for i in duration]"
   ]
  },
  {
   "cell_type": "code",
   "execution_count": 156,
   "metadata": {
    "collapsed": true
   },
   "outputs": [],
   "source": [
    "duration = [re.sub(\"hours|hour|hrs\",\"hr\",i) for i in duration]"
   ]
  },
  {
   "cell_type": "code",
   "execution_count": 157,
   "metadata": {
    "collapsed": true
   },
   "outputs": [],
   "source": [
    "duration = [re.sub(\"minutes|mins|min.\",\"min\",i) for i in duration]"
   ]
  },
  {
   "cell_type": "code",
   "execution_count": 158,
   "metadata": {
    "collapsed": true
   },
   "outputs": [],
   "source": [
    "duration = [re.sub(\"seconds|sec.|secs|second|secs.\",\"sec\",i) for i in duration]"
   ]
  },
  {
   "cell_type": "code",
   "execution_count": 159,
   "metadata": {
    "collapsed": false
   },
   "outputs": [],
   "source": [
    "regex = r'(\\d+\\.?\\d*)(?=.*(hr|min|sec))'"
   ]
  },
  {
   "cell_type": "code",
   "execution_count": 160,
   "metadata": {
    "collapsed": false
   },
   "outputs": [
    {
     "data": {
      "text/plain": [
       "'min'"
      ]
     },
     "execution_count": 160,
     "metadata": {},
     "output_type": "execute_result"
    }
   ],
   "source": [
    "re.search(regex,duration[10]).group(2)"
   ]
  },
  {
   "cell_type": "code",
   "execution_count": 161,
   "metadata": {
    "collapsed": false
   },
   "outputs": [],
   "source": [
    "clean_duration =[]"
   ]
  },
  {
   "cell_type": "code",
   "execution_count": 162,
   "metadata": {
    "collapsed": false
   },
   "outputs": [],
   "source": [
    "for i in range(len(duration)):\n",
    "    clean_duration.append((list_of_duration[i],re.search(regex,duration[i]).group(1),re.search(regex, duration[i]).group(2)))"
   ]
  },
  {
   "cell_type": "code",
   "execution_count": 163,
   "metadata": {
    "collapsed": false
   },
   "outputs": [
    {
     "data": {
      "text/plain": [
       "[('45 minutes', '45', 'min'),\n",
       " ('1-2 hrs', '1', 'hr'),\n",
       " ('20 seconds', '20', 'sec'),\n",
       " ('1/2 hour', '0.5', 'hr'),\n",
       " ('15 minutes', '15', 'min'),\n",
       " ('5 minutes', '5', 'min'),\n",
       " ('about 3 mins', '3', 'min'),\n",
       " ('20 minutes', '20', 'min'),\n",
       " ('3  minutes', '3', 'min'),\n",
       " ('several minutes', '5', 'min'),\n",
       " ('5 min.', '5', 'min'),\n",
       " ('3 minutes', '3', 'min'),\n",
       " ('30 min.', '30', 'min'),\n",
       " ('3 minutes', '3', 'min'),\n",
       " ('30 seconds', '30', 'sec'),\n",
       " ('20minutes', '20', 'min'),\n",
       " ('2 minutes', '2', 'min'),\n",
       " ('20-30 min', '20', 'min'),\n",
       " ('20 sec.', '20', 'sec'),\n",
       " ('45 minutes', '45', 'min'),\n",
       " ('20 minutes', '20', 'min'),\n",
       " ('one hour?', '1', 'hr'),\n",
       " ('5-6 minutes', '5', 'min'),\n",
       " ('1 minute', '1', 'min'),\n",
       " ('3 seconds', '3', 'sec'),\n",
       " ('30 seconds', '30', 'sec'),\n",
       " ('approx: 30 seconds', '30', 'sec'),\n",
       " ('5min', '5', 'min'),\n",
       " ('15 minutes', '15', 'min'),\n",
       " ('4.5 or more min.', '4.5', 'min'),\n",
       " ('3 minutes', '3', 'min'),\n",
       " ('30mins.', '30', 'min'),\n",
       " ('3 min', '3', 'min'),\n",
       " ('5 minutes', '5', 'min'),\n",
       " ('3 to 5 min', '3', 'min'),\n",
       " ('2min', '2', 'min'),\n",
       " ('1 minute', '1', 'min'),\n",
       " ('couple minutes', '2', 'min'),\n",
       " ('15-20 seconds', '15', 'sec'),\n",
       " ('10min', '10', 'min'),\n",
       " ('3 minutes', '3', 'min'),\n",
       " ('10 minutes', '10', 'min'),\n",
       " ('few minutes', '2', 'min'),\n",
       " ('1 minute', '1', 'min'),\n",
       " ('2 sec.', '2', 'sec'),\n",
       " ('approx 5 min', '5', 'min'),\n",
       " ('1 minute', '1', 'min'),\n",
       " ('3min', '3', 'min'),\n",
       " ('2 minutes', '2', 'min'),\n",
       " ('30 minutes', '30', 'min'),\n",
       " ('10 minutes', '10', 'min'),\n",
       " ('1 hour(?)', '1', 'hr'),\n",
       " ('10 seconds', '10', 'sec'),\n",
       " ('1min. 39s', '1', 'min'),\n",
       " ('30 seconds', '30', 'sec'),\n",
       " ('20 minutes', '20', 'min'),\n",
       " ('8 seconds', '8', 'sec'),\n",
       " ('less than 1 min', '1', 'min'),\n",
       " ('1 hour', '1', 'hr'),\n",
       " ('2 minutes', '2', 'min'),\n",
       " ('5 seconds', '5', 'sec'),\n",
       " ('~1 hour', '1', 'hr'),\n",
       " ('2 min.', '2', 'min'),\n",
       " ('1 minute', '1', 'min'),\n",
       " ('3sec', '3', 'sec'),\n",
       " ('5 min', '5', 'min'),\n",
       " ('5 min', '5', 'min'),\n",
       " ('1 minute', '1', 'min'),\n",
       " ('4 hours', '4', 'hr'),\n",
       " ('30 seconds', '30', 'sec'),\n",
       " ('<5 minutes', '5', 'min'),\n",
       " ('1-hour', '1', 'hr'),\n",
       " ('5 minutes', '5', 'min'),\n",
       " ('10 to 15 sec', '10', 'sec'),\n",
       " ('30 +/- min', '30', 'min'),\n",
       " ('10 minutes', '10', 'min'),\n",
       " ('45min.', '45', 'min'),\n",
       " ('< 1 min', '1', 'min'),\n",
       " ('10 minutes', '10', 'min'),\n",
       " ('2 seconds', '2', 'sec'),\n",
       " ('2 hours', '2', 'hr'),\n",
       " ('15 seconds', '15', 'sec'),\n",
       " ('1 hour', '1', 'hr'),\n",
       " ('5-10 min.', '5', 'min'),\n",
       " ('10 seconds', '10', 'sec'),\n",
       " ('1 hour', '1', 'hr'),\n",
       " ('45 secs', '45', 'sec'),\n",
       " ('60-90 sec', '60', 'sec'),\n",
       " ('3 hours', '3', 'hr'),\n",
       " ('5 min', '5', 'min'),\n",
       " ('several minutes', '5', 'min'),\n",
       " ('4 minutes', '4', 'min'),\n",
       " ('45 minutes', '45', 'min'),\n",
       " ('3 minutes', '3', 'min'),\n",
       " ('10 seconds', '10', 'sec'),\n",
       " ('30seconds', '30', 'sec'),\n",
       " ('45 seconds', '45', 'sec'),\n",
       " ('15 seconds', '15', 'sec'),\n",
       " ('30 min.', '30', 'min'),\n",
       " ('4-5 seconds', '4', 'sec')]"
      ]
     },
     "execution_count": 163,
     "metadata": {},
     "output_type": "execute_result"
    }
   ],
   "source": [
    "clean_duration"
   ]
  },
  {
   "cell_type": "markdown",
   "metadata": {},
   "source": [
    "**Bonus tasks:**\n",
    "\n",
    "- Try reading in **more than 100 rows**, and see if your code still produces the correct results.\n",
    "- When a range is specified (such as '1-2 hrs' or '10 to 15 sec'), **calculate the exact midpoint** ('1.5 hr' or '12.5 sec') to use in your normalized data."
   ]
  }
 ],
 "metadata": {
  "kernelspec": {
   "display_name": "Python 2",
   "language": "python",
   "name": "python2"
  },
  "language_info": {
   "codemirror_mode": {
    "name": "ipython",
    "version": 2
   },
   "file_extension": ".py",
   "mimetype": "text/x-python",
   "name": "python",
   "nbconvert_exporter": "python",
   "pygments_lexer": "ipython2",
   "version": "2.7.10"
  }
 },
 "nbformat": 4,
 "nbformat_minor": 0
}
