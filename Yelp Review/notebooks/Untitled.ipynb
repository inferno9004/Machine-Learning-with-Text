{
 "cells": [
  {
   "cell_type": "code",
   "execution_count": 2,
   "metadata": {
    "collapsed": true
   },
   "outputs": [],
   "source": [
    "import re"
   ]
  },
  {
   "cell_type": "code",
   "execution_count": 4,
   "metadata": {
    "collapsed": true
   },
   "outputs": [],
   "source": [
    "with open(\"../data/yelp.csv\") as f:\n",
    "    reviews = f.read()"
   ]
  },
  {
   "cell_type": "code",
   "execution_count": 8,
   "metadata": {
    "collapsed": false
   },
   "outputs": [
    {
     "data": {
      "text/plain": [
       "[('Mr.', 'Mustachio'),\n",
       " ('Mr.', 'Hyde'),\n",
       " ('Mr', 'H'),\n",
       " ('Mr', 'Chao'),\n",
       " ('Mr', 'Chao'),\n",
       " ('Mr.', 'Pibb'),\n",
       " ('Mister', 'Softee'),\n",
       " ('Mr.', 'Valet'),\n",
       " ('Mr.', 'and'),\n",
       " ('Mr', 'Mu'),\n",
       " ('Mr', 'MS'),\n",
       " ('Mr.', 'Goodcents'),\n",
       " ('Mr.', 'Drifty'),\n",
       " ('Mr.', 'Drifty'),\n",
       " ('Mr.', 'Drifty'),\n",
       " ('Mr', 'Chu'),\n",
       " ('Mr.', 'Fox'),\n",
       " ('Mr.', 'Pibb'),\n",
       " ('Mr.', 'Yings'),\n",
       " ('Mr.', 'McGrath'),\n",
       " ('Mr.', 'Clerk'),\n",
       " ('Mr.', 'Goodcents'),\n",
       " ('Mr.', 'Goodcents'),\n",
       " ('Mr.', 'Johnston'),\n",
       " ('Mr.', 'K'),\n",
       " ('mister', 'or'),\n",
       " ('Mr.', 'Miagi'),\n",
       " ('Mr.', 'Big'),\n",
       " ('Mr.', 'Dr'),\n",
       " ('Mr', 'don'),\n",
       " ('Mr.', 'H__'),\n",
       " ('MR', 'has'),\n",
       " ('Mr', 'Goodcents'),\n",
       " ('Mr.', 'Ramsey'),\n",
       " ('Mr.', 'Wong'),\n",
       " ('Mr.', 'Crusty'),\n",
       " ('Mr', 'and'),\n",
       " ('Mr', 'didn'),\n",
       " ('mister', 'in'),\n",
       " ('Mr', 'Owner'),\n",
       " ('Mr.', 'T'),\n",
       " ('Mr.', 'T'),\n",
       " ('Mr.', 'Pink'),\n",
       " ('Mr.', 'Baird'),\n",
       " ('Mr.', 'Middle'),\n",
       " ('Mr.', 'Goodcents'),\n",
       " ('Mr', 'Sparky')]"
      ]
     },
     "execution_count": 8,
     "metadata": {},
     "output_type": "execute_result"
    }
   ],
   "source": [
    "re.findall(r'(Mr\\.|Mr|Mister) (\\w+)', reviews, flags=re.IGNORECASE)"
   ]
  },
  {
   "cell_type": "code",
   "execution_count": 9,
   "metadata": {
    "collapsed": true
   },
   "outputs": [],
   "source": [
    "s = 'I told Mister Pibb that I love Mister Softee!'"
   ]
  },
  {
   "cell_type": "code",
   "execution_count": 11,
   "metadata": {
    "collapsed": false
   },
   "outputs": [
    {
     "data": {
      "text/plain": [
       "'I told Mr. Pibb that I love Mr. Softee!'"
      ]
     },
     "execution_count": 11,
     "metadata": {},
     "output_type": "execute_result"
    }
   ],
   "source": [
    "re.sub(r'Mister',r'Mr.',s)"
   ]
  },
  {
   "cell_type": "code",
   "execution_count": 12,
   "metadata": {
    "collapsed": true
   },
   "outputs": [],
   "source": [
    "s = 'my twitter is @jimmy, my emails are john@hotmail.com and jim@yahoo.com'"
   ]
  },
  {
   "cell_type": "code",
   "execution_count": 15,
   "metadata": {
    "collapsed": false
   },
   "outputs": [
    {
     "data": {
      "text/plain": [
       "'my twitter is @jimmy, my emails are john@gmail.com and jim@gmail.com'"
      ]
     },
     "execution_count": 15,
     "metadata": {},
     "output_type": "execute_result"
    }
   ],
   "source": [
    "re.sub(r'(\\w+)@[\\w.]+',r'\\1@gmail.com',s)"
   ]
  }
 ],
 "metadata": {
  "kernelspec": {
   "display_name": "Python 2",
   "language": "python",
   "name": "python2"
  },
  "language_info": {
   "codemirror_mode": {
    "name": "ipython",
    "version": 2
   },
   "file_extension": ".py",
   "mimetype": "text/x-python",
   "name": "python",
   "nbconvert_exporter": "python",
   "pygments_lexer": "ipython2",
   "version": "2.7.10"
  }
 },
 "nbformat": 4,
 "nbformat_minor": 0
}
